{
 "cells": [
  {
   "cell_type": "markdown",
   "metadata": {},
   "source": [
    "# ESS Data Analyze"
   ]
  },
  {
   "cell_type": "markdown",
   "metadata": {},
   "source": [
    "## Import libraries"
   ]
  },
  {
   "cell_type": "code",
   "execution_count": 1,
   "metadata": {},
   "outputs": [],
   "source": [
    "import os\n",
    "\n",
    "import pandas as pd\n",
    "import seaborn as sns\n",
    "import matplotlib.pyplot as plt\n"
   ]
  },
  {
   "cell_type": "markdown",
   "metadata": {},
   "source": [
    "## Get data path"
   ]
  },
  {
   "cell_type": "code",
   "execution_count": null,
   "metadata": {},
   "outputs": [],
   "source": [
    "def get_files_path(files_name):\n",
    "    files_path = []\n",
    "    for root, dirs, files in os.walk('../data/'):\n",
    "        for file in files:\n",
    "            if file.endswith(files_name):\n",
    "                files_path.append(os.path.join(root, file))\n",
    "    return sorted(files_path)"
   ]
  },
  {
   "cell_type": "code",
   "execution_count": null,
   "metadata": {},
   "outputs": [],
   "source": [
    "def get_Sn_cell_path(files_name, n):\n",
    "    csv_files = get_files_path(files_name)\n",
    "    if n == 'all':\n",
    "        return csv_files\n",
    "    return [path for path in csv_files if n in path]"
   ]
  },
  {
   "cell_type": "code",
   "execution_count": null,
   "metadata": {},
   "outputs": [],
   "source": [
    "FILES = {\n",
    "    'BMS':'_BMS_influxdb_data.csv',\n",
    "    'voltage':'_voltage_influxdb_data.csv',\n",
    "    'temperature':'temperature_influxdb_data.csv'\n",
    "}\n",
    "\n",
    "SnCELL =['all', 'S1_cell', 'S2_cell', 'S3_cell', 'S4_cell', 'S5_cell', 'S6_cell']"
   ]
  },
  {
   "cell_type": "code",
   "execution_count": null,
   "metadata": {},
   "outputs": [],
   "source": [
    "bms_files_path = get_files_path(FILES['BMS'])\n",
    "bms_files_path"
   ]
  },
  {
   "cell_type": "code",
   "execution_count": null,
   "metadata": {},
   "outputs": [],
   "source": [
    "cell1 = get_Sn_cell_path(FILES['temperature'], SnCELL[1])\n",
    "cell1"
   ]
  },
  {
   "cell_type": "markdown",
   "metadata": {},
   "source": [
    "## Load Data"
   ]
  },
  {
   "cell_type": "code",
   "execution_count": null,
   "metadata": {},
   "outputs": [],
   "source": [
    "def read_rendom_samples(files, n, random_state):\n",
    "    data = [pd.read_csv(file, index_col=[0]).sample(n=n, random_state=random_state) for file in files]\n",
    "    df = pd.concat(data, ignore_index=True)\n",
    "    df.sort_values('timestamp', inplace=True)\n",
    "    df['timestamp'] = pd.to_datetime(df['timestamp'])\n",
    "    return df"
   ]
  },
  {
   "cell_type": "code",
   "execution_count": null,
   "metadata": {},
   "outputs": [],
   "source": [
    "def read_all_data(files):\n",
    "    data = [pd.read_csv(file, index_col=[0]) for file in files]\n",
    "    df = pd.concat(data, ignore_index=True)\n",
    "    df.sort_values('timestamp', inplace=True)\n",
    "    df['timestamp'] = pd.to_datetime(df['timestamp'])\n",
    "    return df"
   ]
  },
  {
   "cell_type": "code",
   "execution_count": null,
   "metadata": {},
   "outputs": [],
   "source": [
    "df = read_rendom_samples(bms_files_path, 20, 42)\n",
    "df.head"
   ]
  },
  {
   "cell_type": "code",
   "execution_count": null,
   "metadata": {},
   "outputs": [],
   "source": [
    "df.info()"
   ]
  },
  {
   "cell_type": "code",
   "execution_count": null,
   "metadata": {},
   "outputs": [],
   "source": [
    "all_data = read_all_data(bms_files_path)\n",
    "all_data.describe()"
   ]
  },
  {
   "cell_type": "code",
   "execution_count": null,
   "metadata": {},
   "outputs": [],
   "source": [
    "all_data.info()"
   ]
  },
  {
   "cell_type": "code",
   "execution_count": null,
   "metadata": {},
   "outputs": [],
   "source": [
    "all_data.set_index('timestamp', inplace=True)\n",
    "s60 = all_data.resample('60S').max()"
   ]
  },
  {
   "cell_type": "code",
   "execution_count": null,
   "metadata": {},
   "outputs": [],
   "source": [
    "s60"
   ]
  },
  {
   "cell_type": "markdown",
   "metadata": {},
   "source": [
    "## SOH "
   ]
  },
  {
   "cell_type": "code",
   "execution_count": null,
   "metadata": {},
   "outputs": [],
   "source": [
    "plt.figure(figsize=(12, 8))\n",
    "sns.lineplot(x='timestamp', y='SOH', data=all_data)\n",
    "plt.title('SOH')\n",
    "plt.ylabel('SOH')\n",
    "plt.xlabel('Time')\n",
    "plt.show()"
   ]
  },
  {
   "cell_type": "code",
   "execution_count": null,
   "metadata": {},
   "outputs": [],
   "source": [
    "filtered_data = all_data[(all_data['SOH'] != 0) & (all_data['SOH'] < 1000)]\n",
    "filtered_data"
   ]
  },
  {
   "cell_type": "code",
   "execution_count": null,
   "metadata": {},
   "outputs": [],
   "source": [
    "plt.figure(figsize=(12, 8))\n",
    "sns.lineplot(x='timestamp', y='SOH', data=filtered_data)\n",
    "plt.title('SOH')\n",
    "plt.ylabel('SOH')\n",
    "plt.xlabel('Time')\n",
    "plt.show()"
   ]
  },
  {
   "cell_type": "markdown",
   "metadata": {},
   "source": [
    "## Histogram"
   ]
  },
  {
   "cell_type": "code",
   "execution_count": null,
   "metadata": {},
   "outputs": [],
   "source": [
    "features = ['System voltage', 'System Current', 'SOC', 'SOH', \n",
    "            'Battery Subsystem Voltage.1', 'Battery Subsystem Voltage.2', 'Battery Subsystem Voltage.3',\n",
    "            'Battery Subsystem Voltage.4', 'Battery Subsystem Voltage.5', 'Battery Subsystem Voltage.6']\n",
    "\n",
    "plt.figure(figsize=(10, 8))\n",
    "df[features].hist(bins=20, layout=(4, 3), figsize=(16, 10))\n",
    "plt.suptitle('Histograms of Features', y=1.02)\n",
    "plt.show()"
   ]
  },
  {
   "cell_type": "markdown",
   "metadata": {},
   "source": [
    "取出電壓爲0的資料"
   ]
  },
  {
   "cell_type": "code",
   "execution_count": null,
   "metadata": {},
   "outputs": [],
   "source": [
    "filtered_data = df[df['System voltage'] < 7000]\n",
    "filtered_data.to_csv('loss.csv')\n"
   ]
  },
  {
   "cell_type": "code",
   "execution_count": null,
   "metadata": {},
   "outputs": [],
   "source": [
    "filtered_data = df[df['System voltage'] != 0]\n",
    "\n",
    "features = ['System voltage', 'System Current', 'SOC', 'SOH', \n",
    "            'Battery Subsystem Voltage.1', 'Battery Subsystem Voltage.2', 'Battery Subsystem Voltage.3',\n",
    "            'Battery Subsystem Voltage.4', 'Battery Subsystem Voltage.5', 'Battery Subsystem Voltage.6']\n",
    "\n",
    "plt.figure(figsize=(10, 8))\n",
    "filtered_data[features].hist(bins=20, layout=(4, 3), figsize=(16, 10))\n",
    "plt.suptitle('Histograms of Features', y=1.02)\n",
    "plt.show()"
   ]
  },
  {
   "cell_type": "markdown",
   "metadata": {},
   "source": [
    "## Temperature"
   ]
  },
  {
   "cell_type": "code",
   "execution_count": null,
   "metadata": {},
   "outputs": [],
   "source": [
    "def read_temperature(files_path):\n",
    "    data = []\n",
    "    for file in files_path:\n",
    "        df = pd.read_csv(file, index_col=[0])\n",
    "        df['timestamp'] = pd.to_datetime(df['timestamp'])\n",
    "        df.set_index('timestamp', inplace=True)\n",
    "        df = df.resample('60s').max()\n",
    "        for idx, row in df.iterrows():\n",
    "            if not row.isnull().all():\n",
    "                max_column = row.idxmax()\n",
    "                max_value = row[max_column]\n",
    "                data.append({'timestamp': idx, 'num': max_column, 'max': max_value})\n",
    "\n",
    "    return pd.DataFrame(data)"
   ]
  },
  {
   "cell_type": "code",
   "execution_count": null,
   "metadata": {},
   "outputs": [],
   "source": [
    "temp_path = get_Sn_cell_path(FILES['temperature'], SnCELL[1])"
   ]
  },
  {
   "cell_type": "code",
   "execution_count": null,
   "metadata": {},
   "outputs": [],
   "source": [
    "temp1 = read_temperature(temp_path)\n",
    "temp_path = get_Sn_cell_path(FILES['temperature'], SnCELL[2])\n",
    "temp2 = read_temperature(temp_path)\n",
    "temp_path = get_Sn_cell_path(FILES['temperature'], SnCELL[3])\n",
    "temp3 = read_temperature(temp_path)"
   ]
  },
  {
   "cell_type": "code",
   "execution_count": null,
   "metadata": {},
   "outputs": [],
   "source": [
    "temp_path = get_Sn_cell_path(FILES['temperature'], SnCELL[4])\n",
    "temp4 = read_temperature(temp_path)\n",
    "temp_path = get_Sn_cell_path(FILES['temperature'], SnCELL[5])\n",
    "temp5 = read_temperature(temp_path)\n",
    "temp_path = get_Sn_cell_path(FILES['temperature'], SnCELL[6])\n",
    "temp6 = read_temperature(temp_path)"
   ]
  },
  {
   "cell_type": "code",
   "execution_count": null,
   "metadata": {},
   "outputs": [],
   "source": [
    "import matplotlib.dates as mdates"
   ]
  },
  {
   "cell_type": "code",
   "execution_count": null,
   "metadata": {},
   "outputs": [],
   "source": [
    "plt.figure(figsize=(12, 8))\n",
    "sns.set_style('whitegrid')\n",
    "sns.lineplot(x='timestamp', y='max', data=temp1[temp1['max'] < 50])\n",
    "sns.lineplot(x='timestamp', y='max', data=temp2[temp2['max'] < 50])\n",
    "sns.lineplot(x='timestamp', y='max', data=temp3[temp3['max'] < 50])\n",
    "sns.lineplot(x='timestamp', y='max', data=temp4[temp4['max'] < 50])\n",
    "sns.lineplot(x='timestamp', y='max', data=temp5[temp5['max'] < 50])\n",
    "sns.lineplot(x='timestamp', y='max', data=temp6[temp6['max'] < 50])\n",
    "plt.title('Temperature')\n",
    "plt.ylabel('Temperature')\n",
    "plt.xlabel('Time')\n",
    "\n",
    "plt.legend()\n",
    "plt.show()"
   ]
  },
  {
   "cell_type": "code",
   "execution_count": null,
   "metadata": {},
   "outputs": [],
   "source": [
    "plt.figure(figsize=(12, 8))\n",
    "\n",
    "plt.figure(figsize=(12, 8))\n",
    "\n",
    "\n",
    "sns.histplot(data=temp2[temp2['max'] < 50], bins=10, palette='hls', label='temp2')\n",
    "\n",
    "sns.histplot(data=temp5[temp5['max'] < 50], bins=10, label='temp5')\n",
    "\n",
    "plt.title('Temperature Distribution')\n",
    "plt.xlabel('Temperature (°C)')\n",
    "plt.ylabel('Count')\n",
    "plt.legend()  # 添加图例\n",
    "plt.show()"
   ]
  },
  {
   "cell_type": "code",
   "execution_count": null,
   "metadata": {},
   "outputs": [],
   "source": [
    "temp1.head()"
   ]
  },
  {
   "cell_type": "code",
   "execution_count": null,
   "metadata": {},
   "outputs": [],
   "source": [
    "error_temp = temp1[temp1['max'] > 50]"
   ]
  },
  {
   "cell_type": "code",
   "execution_count": null,
   "metadata": {},
   "outputs": [],
   "source": [
    "error_temp.to_csv('error_temp.csv')"
   ]
  },
  {
   "cell_type": "code",
   "execution_count": null,
   "metadata": {},
   "outputs": [],
   "source": [
    "temp1.to_csv('tmp.csv')"
   ]
  },
  {
   "cell_type": "code",
   "execution_count": null,
   "metadata": {},
   "outputs": [],
   "source": []
  }
 ],
 "metadata": {
  "kernelspec": {
   "display_name": "esa",
   "language": "python",
   "name": "python3"
  },
  "language_info": {
   "codemirror_mode": {
    "name": "ipython",
    "version": 3
   },
   "file_extension": ".py",
   "mimetype": "text/x-python",
   "name": "python",
   "nbconvert_exporter": "python",
   "pygments_lexer": "ipython3",
   "version": "3.11.9"
  }
 },
 "nbformat": 4,
 "nbformat_minor": 2
}
